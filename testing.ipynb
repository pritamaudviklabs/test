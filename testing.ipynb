{
 "cells": [
  {
   "cell_type": "code",
   "execution_count": 1,
   "metadata": {},
   "outputs": [],
   "source": [
    "import os\n",
    "from dotenv import load_dotenv, dotenv_values\n",
    "from newsapi import NewsApiClient\n",
    "import json"
   ]
  },
  {
   "cell_type": "code",
   "execution_count": 2,
   "metadata": {},
   "outputs": [
    {
     "data": {
      "text/plain": [
       "'d:\\\\Python Hub\\\\Ixigo task\\\\News'"
      ]
     },
     "execution_count": 2,
     "metadata": {},
     "output_type": "execute_result"
    }
   ],
   "source": [
    "%pwd"
   ]
  },
  {
   "cell_type": "code",
   "execution_count": 3,
   "metadata": {},
   "outputs": [],
   "source": [
    "load_dotenv()\n",
    "\n",
    "api_key = os.getenv('API_KEY')"
   ]
  },
  {
   "cell_type": "code",
   "execution_count": 4,
   "metadata": {},
   "outputs": [],
   "source": [
    "newsapi = NewsApiClient(api_key)"
   ]
  },
  {
   "cell_type": "code",
   "execution_count": 7,
   "metadata": {},
   "outputs": [],
   "source": [
    "def search_news():\n",
    "    search_term = input(\"Enter any search term to get news: \")\n",
    "\n",
    "    \n",
    "    if not search_term:\n",
    "        print(\"Please enter a term to search.\")\n",
    "        return\n",
    "    \n",
    "    search_results = newsapi.get_everything(\n",
    "    q=search_term,      \n",
    "    language='en',      \n",
    "    sort_by='relevancy',  \n",
    "    page_size=5        \n",
    "    )\n",
    "\n",
    "    if not search_results['articles']:\n",
    "        print(\"No results generated. Try another word.\")\n",
    "        return\n",
    "    \n",
    "    news_list = []\n",
    "\n",
    "    for article in search_results['articles']:\n",
    "        article_dict = {\n",
    "            'news_heading': article['title'],  \n",
    "            'news_date': article['publishedAt'][:10],  \n",
    "            'news_link': article['url'],  \n",
    "            'news_summary': article.get('description', 'No summary available')  \n",
    "        }\n",
    "        news_list.append(article_dict)\n",
    "        \n",
    "    articles_json = json.dumps(news_list, indent=4)\n",
    "    print(f\"You searched for the term '{search_term}'. Here are the results:\")\n",
    "    print(articles_json)"
   ]
  },
  {
   "cell_type": "code",
   "execution_count": 8,
   "metadata": {},
   "outputs": [
    {
     "name": "stdout",
     "output_type": "stream",
     "text": [
      "You searched for the term 'modi'. Here are the results:\n",
      "[\n",
      "    {\n",
      "        \"news_heading\": \"India approves development of reusable launcher, space station module\",\n",
      "        \"news_date\": \"2024-09-19\",\n",
      "        \"news_link\": \"https://arstechnica.com/space/2024/09/india-is-on-a-path-to-become-the-worlds-third-largest-space-power/\",\n",
      "        \"news_summary\": \"The Indian government has approved $2.7 billion in new spending for its space program.\"\n",
      "    },\n",
      "    {\n",
      "        \"news_heading\": \"Modi rival bailed after five months in jail\",\n",
      "        \"news_date\": \"2024-09-13\",\n",
      "        \"news_link\": \"https://www.bbc.com/news/articles/c8dpnj3en99o\",\n",
      "        \"news_summary\": \"Arvind Kejriwal has always rejected corruption allegations and called them political vendetta.\"\n",
      "    },\n",
      "    {\n",
      "        \"news_heading\": \"India flips the switch on three homebrew supercomputers\",\n",
      "        \"news_date\": \"2024-09-27\",\n",
      "        \"news_link\": \"https://www.theregister.com/2024/09/27/india_rudra_supercomputers_dedicated/\",\n",
      "        \"news_summary\": \"Rudra machines use local designs for server, interconnect, and cooling \\u2013 but seemingly not a planned 96-core Arm CPU\\nIndian prime minister Narendra Modi yesterday dedicated three new supercomputers, and made the machines a symbol of his economic, social, and \\u2026\"\n",
      "    },\n",
      "    {\n",
      "        \"news_heading\": \"Modi\\u2019s Kashmir statehood promise. Poll rhetoric or genuine outreach?\",\n",
      "        \"news_date\": \"2024-09-30\",\n",
      "        \"news_link\": \"https://www.aljazeera.com/news/2024/9/30/modis-kashmir-statehood-promise-poll-rhetoric-or-genuine-outreach\",\n",
      "        \"news_summary\": \"Modi promises Kashmir statehood amid regional elections, but analysts doubt full autonomy will be restored.\"\n",
      "    },\n",
      "    {\n",
      "        \"news_heading\": \"India Targets $500 Billion Electronics Sector by 2030, Modi Says\",\n",
      "        \"news_date\": \"2024-09-11\",\n",
      "        \"news_link\": \"https://consent.yahoo.com/v2/collectConsent?sessionId=1_cc-session_8664c1fe-5e0c-4cc8-87f4-9639c6c44e6e\",\n",
      "        \"news_summary\": null\n",
      "    }\n",
      "]\n"
     ]
    }
   ],
   "source": [
    "search_news()"
   ]
  }
 ],
 "metadata": {
  "kernelspec": {
   "display_name": "newenv",
   "language": "python",
   "name": "python3"
  },
  "language_info": {
   "codemirror_mode": {
    "name": "ipython",
    "version": 3
   },
   "file_extension": ".py",
   "mimetype": "text/x-python",
   "name": "python",
   "nbconvert_exporter": "python",
   "pygments_lexer": "ipython3",
   "version": "3.9.6"
  }
 },
 "nbformat": 4,
 "nbformat_minor": 2
}
